{
 "cells": [
  {
   "cell_type": "markdown",
   "metadata": {},
   "source": [
    "Дан файл с архивом изменений температур с 01 февраля 2014 года по 12 марта 2025\n",
    "Этот файл был преобразован в таблицу с нужными нам датами: с 1 февраля по 10 мая каждого года\n",
    "Далее этот файл был преобразован в файл-сводку средних значений для декад каждого года. Данные записаны в таблице \"температура-по-декадам.xlsx\""
   ]
  },
  {
   "cell_type": "code",
   "execution_count": 190,
   "metadata": {},
   "outputs": [],
   "source": [
    "import pandas as pd\n",
    "import numpy as np\n",
    "import runpy\n",
    "from IPython.display import display, Latex, Math, HTML"
   ]
  },
  {
   "cell_type": "code",
   "execution_count": 191,
   "metadata": {},
   "outputs": [],
   "source": [
    "# runpy.run_path('create-work-tables.py')"
   ]
  },
  {
   "cell_type": "markdown",
   "metadata": {},
   "source": [
    "Выше мы запустили файл-обработчик таблицы"
   ]
  },
  {
   "cell_type": "code",
   "execution_count": 192,
   "metadata": {},
   "outputs": [],
   "source": [
    "def matrix_print(matrix):\n",
    "    latex_str = \"\\\\begin{bmatrix}\\n\"\n",
    "\n",
    "    for row in matrix:\n",
    "        latex_str += \" & \".join(f\"{x:.4f}\" for x in row) + \" \\\\\\\\ \\n\"\n",
    "\n",
    "    latex_str += \"\\\\end{bmatrix}\"\n",
    "\n",
    "    return latex_str"
   ]
  },
  {
   "cell_type": "code",
   "execution_count": 193,
   "metadata": {},
   "outputs": [],
   "source": [
    "df = pd.read_excel('температура-по-декадам.xlsx', engine='openpyxl')"
   ]
  },
  {
   "cell_type": "code",
   "execution_count": 194,
   "metadata": {},
   "outputs": [
    {
     "name": "stdout",
     "output_type": "stream",
     "text": [
      "Минимальное значение температуры:  -16.13 \n",
      "Максимальное значение температуры:  20.09\n",
      "Дискретезируем этот промежуток на 10 диапазонов. Длина одного диапазона  3.6221\n"
     ]
    }
   ],
   "source": [
    "T_max = df['температура'].max()\n",
    "T_min = df['температура'].min()\n",
    "print(\"Минимальное значение температуры: \", T_min, \"\\nМаксимальное значение температуры: \", T_max)\n",
    "T_range_count = 10\n",
    "T_range_len = round((T_max - T_min)/T_range_count + 1e-4, 4)\n",
    "print(\"Дискретезируем этот промежуток на\", T_range_count,\"диапазонов. Длина одного диапазона \", T_range_len)"
   ]
  },
  {
   "cell_type": "markdown",
   "metadata": {},
   "source": [
    "создаем матрицу переходов"
   ]
  },
  {
   "cell_type": "code",
   "execution_count": 195,
   "metadata": {},
   "outputs": [
    {
     "data": {
      "text/plain": [
       "Index(['год', 'месяц', 'декада', 'номер декады', 'температура'], dtype='object')"
      ]
     },
     "execution_count": 195,
     "metadata": {},
     "output_type": "execute_result"
    }
   ],
   "source": [
    "df.columns"
   ]
  },
  {
   "cell_type": "code",
   "execution_count": 196,
   "metadata": {},
   "outputs": [],
   "source": [
    "matrix_temp_year = []\n",
    "\n",
    "for year in range(2014, 2025):\n",
    "        filter = (\n",
    "            (df['год'] == year)\n",
    "        )\n",
    "        \n",
    "        df_filtred = df.loc[filter]\n",
    "        matrix_temp_year.append(df_filtred['температура'].values)\n",
    "matrix_temp_year = np.array(matrix_temp_year)\n",
    "        "
   ]
  },
  {
   "cell_type": "code",
   "execution_count": 197,
   "metadata": {},
   "outputs": [
    {
     "data": {
      "text/html": [
       "<h3>Ниже приведена таблица средних температур, где по вертикали годы от 2014 до 2024, а по горизонтали декады от 1 до 10<h3>"
      ],
      "text/plain": [
       "<IPython.core.display.HTML object>"
      ]
     },
     "metadata": {},
     "output_type": "display_data"
    },
    {
     "data": {
      "text/latex": [
       "\\begin{bmatrix}\n",
       "-4.8300 & 1.1500 & 0.8250 & 2.8300 & 2.7200 & 7.6909 & 3.0700 & 10.8000 & 15.6500 & 13.2900 \\\\ \n",
       "-3.4400 & -1.6700 & 2.2250 & 2.8800 & 7.9300 & 1.5818 & 4.7000 & 7.3300 & 11.3200 & 14.6700 \\\\ \n",
       "0.7000 & -1.2900 & 0.6778 & 2.4200 & 0.8200 & 3.5909 & 7.2100 & 11.1300 & 12.2800 & 19.3800 \\\\ \n",
       "-9.4700 & -1.4100 & -0.1125 & 3.1700 & 4.7900 & 3.6636 & 6.6900 & 3.9000 & 10.2000 & 12.2700 \\\\ \n",
       "-7.4800 & -4.9600 & -12.4750 & -7.5700 & -3.2300 & 0.5727 & 9.1000 & 11.4100 & 11.6200 & 18.7800 \\\\ \n",
       "-1.3800 & 0.6400 & -2.3125 & -0.2900 & 1.7300 & 4.2545 & 8.5300 & 8.7100 & 16.4800 & 16.9700 \\\\ \n",
       "-2.3500 & 2.2900 & 2.5222 & 5.2900 & 5.1700 & 5.1455 & 6.7100 & 5.5300 & 8.3900 & 15.8200 \\\\ \n",
       "-8.8500 & -12.8100 & -6.0125 & -3.1700 & -1.0800 & 5.4818 & 6.6500 & 15.1600 & 7.5900 & 11.0900 \\\\ \n",
       "-2.6000 & 1.4700 & 1.2500 & -1.1000 & 1.1500 & 3.8091 & 3.9800 & 7.3000 & 10.0800 & 11.8900 \\\\ \n",
       "-1.6300 & -4.0400 & -5.6125 & -1.6300 & 2.5800 & 6.3727 & 10.6700 & 12.8200 & 14.8100 & 10.1600 \\\\ \n",
       "-4.4400 & -6.0100 & -0.3444 & 0.0800 & 3.4200 & 7.3455 & 12.9300 & 11.5600 & 15.5500 & 8.4700 \\\\ \n",
       "\\end{bmatrix}"
      ],
      "text/plain": [
       "<IPython.core.display.Latex object>"
      ]
     },
     "metadata": {},
     "output_type": "display_data"
    }
   ],
   "source": [
    "display(HTML(\"<h3>Ниже приведена таблица средних температур, где по вертикали годы от 2014 до 2024, а по горизонтали декады от 1 до 10<h3>\"), Latex(matrix_print(matrix_temp_year)))"
   ]
  },
  {
   "cell_type": "code",
   "execution_count": 198,
   "metadata": {},
   "outputs": [
    {
     "data": {
      "text/html": [
       "<h3>Среднее значение температуры в первой декаде 2025 года в 12:00  =  -1.27 градусов<h3>"
      ],
      "text/plain": [
       "<IPython.core.display.HTML object>"
      ]
     },
     "metadata": {},
     "output_type": "display_data"
    }
   ],
   "source": [
    "df = pd.read_excel('температура-февраль-2025.xlsx', engine='openpyxl')\n",
    "T_feb = df['температура'].values[0]\n",
    "\n",
    "display(HTML(f\"<h3>Среднее значение температуры в первой декаде 2025 года в 12:00  =  {T_feb} градусов<h3>\"))"
   ]
  },
  {
   "cell_type": "code",
   "execution_count": 199,
   "metadata": {},
   "outputs": [
    {
     "data": {
      "text/latex": [
       "$\\displaystyle \\text{Ниже представлен вектор }\\pi [1]$"
      ],
      "text/plain": [
       "<IPython.core.display.Math object>"
      ]
     },
     "metadata": {},
     "output_type": "display_data"
    },
    {
     "data": {
      "text/latex": [
       "\\begin{bmatrix}\n",
       "0.0000 \\\\ \n",
       "0.0000 \\\\ \n",
       "0.0000 \\\\ \n",
       "0.0000 \\\\ \n",
       "1.0000 \\\\ \n",
       "0.0000 \\\\ \n",
       "0.0000 \\\\ \n",
       "0.0000 \\\\ \n",
       "0.0000 \\\\ \n",
       "0.0000 \\\\ \n",
       "\\end{bmatrix}"
      ],
      "text/plain": [
       "<IPython.core.display.Latex object>"
      ]
     },
     "metadata": {},
     "output_type": "display_data"
    }
   ],
   "source": [
    "T_range = T_min + T_range_len\n",
    "index_feb = 0\n",
    "\n",
    "while T_feb >= T_range:\n",
    "    T_range += T_range_len\n",
    "    index_feb += 1\n",
    "    \n",
    "pi_1 = np.zeros((T_range_count, 1))\n",
    "pi_1[index_feb][0] = 1\n",
    "display(Math(\"\\\\text{Ниже представлен вектор }\\\\pi [1]\"), Latex(matrix_print(pi_1)))"
   ]
  },
  {
   "cell_type": "code",
   "execution_count": 200,
   "metadata": {},
   "outputs": [
    {
     "data": {
      "text/html": [
       "<h1>Вариант 1<h1>"
      ],
      "text/plain": [
       "<IPython.core.display.HTML object>"
      ]
     },
     "metadata": {},
     "output_type": "display_data"
    }
   ],
   "source": [
    "display(HTML('<h1>Вариант 1<h1>'))"
   ]
  },
  {
   "cell_type": "code",
   "execution_count": 201,
   "metadata": {},
   "outputs": [
    {
     "data": {
      "text/latex": [
       "\\begin{bmatrix}\n",
       "1\\text{ промежуток: от }-16.1300\\text{ до }-12.5079 \\\\ \n",
       "2\\text{ промежуток: от }-12.5079\\text{ до }-8.8858 \\\\ \n",
       "3\\text{ промежуток: от }-8.8858\\text{ до }-5.2637 \\\\ \n",
       "4\\text{ промежуток: от }-5.2637\\text{ до }-1.6416 \\\\ \n",
       "5\\text{ промежуток: от }-1.6416\\text{ до }1.9805 \\\\ \n",
       "6\\text{ промежуток: от }1.9805\\text{ до }5.6026 \\\\ \n",
       "7\\text{ промежуток: от }5.6026\\text{ до }9.2247 \\\\ \n",
       "8\\text{ промежуток: от }9.2247\\text{ до }12.8468 \\\\ \n",
       "9\\text{ промежуток: от }12.8468\\text{ до }16.4689 \\\\ \n",
       "10\\text{ промежуток: от }16.4689\\text{ до }20.0910 \\\\ \n",
       "\\end{bmatrix}"
      ],
      "text/plain": [
       "<IPython.core.display.Latex object>"
      ]
     },
     "metadata": {},
     "output_type": "display_data"
    }
   ],
   "source": [
    "latex_str = \"\\\\begin{bmatrix}\\n\"\n",
    "\n",
    "count = 0\n",
    "for row in np.arange(T_min, T_max, T_range_len):\n",
    "    count += 1\n",
    "    latex_str += f\"{count}\" + \"\\\\text{ промежуток: от }\" +  f\"{row:.4f}\" + \"\\\\text{ до }\" + f\"{row + T_range_len:.4f}\" + \" \\\\\\\\ \\n\"\n",
    "\n",
    "latex_str += \"\\\\end{bmatrix}\"\n",
    "display(Latex(latex_str))"
   ]
  },
  {
   "cell_type": "code",
   "execution_count": 202,
   "metadata": {},
   "outputs": [
    {
     "data": {
      "text/html": [
       "<h3>Матрица переходов с февраля в май</h3>"
      ],
      "text/plain": [
       "<IPython.core.display.HTML object>"
      ]
     },
     "metadata": {},
     "output_type": "display_data"
    },
    {
     "data": {
      "text/latex": [
       "\\begin{bmatrix}\n",
       "0.0000 & 0.0000 & 0.0000 & 0.0000 & 0.0000 & 0.0000 & 0.0000 & 0.0000 & 0.0000 & 0.0000 \\\\ \n",
       "0.0000 & 0.0000 & 0.0000 & 0.0000 & 0.0000 & 0.0000 & 0.0000 & 1.0000 & 0.0000 & 0.0000 \\\\ \n",
       "0.0000 & 0.0000 & 0.0000 & 0.0000 & 0.0000 & 0.0000 & 0.0000 & 0.5000 & 0.0000 & 0.5000 \\\\ \n",
       "0.0000 & 0.0000 & 0.0000 & 0.0000 & 0.0000 & 0.0000 & 0.2000 & 0.2000 & 0.6000 & 0.0000 \\\\ \n",
       "0.0000 & 0.0000 & 0.0000 & 0.0000 & 0.0000 & 0.0000 & 0.0000 & 0.3333 & 0.0000 & 0.6667 \\\\ \n",
       "0.0000 & 0.0000 & 0.0000 & 0.0000 & 0.0000 & 0.0000 & 0.0000 & 0.0000 & 0.0000 & 0.0000 \\\\ \n",
       "0.0000 & 0.0000 & 0.0000 & 0.0000 & 0.0000 & 0.0000 & 0.0000 & 0.0000 & 0.0000 & 0.0000 \\\\ \n",
       "0.0000 & 0.0000 & 0.0000 & 0.0000 & 0.0000 & 0.0000 & 0.0000 & 0.0000 & 0.0000 & 0.0000 \\\\ \n",
       "0.0000 & 0.0000 & 0.0000 & 0.0000 & 0.0000 & 0.0000 & 0.0000 & 0.0000 & 0.0000 & 0.0000 \\\\ \n",
       "0.0000 & 0.0000 & 0.0000 & 0.0000 & 0.0000 & 0.0000 & 0.0000 & 0.0000 & 0.0000 & 0.0000 \\\\ \n",
       "\\end{bmatrix}"
      ],
      "text/plain": [
       "<IPython.core.display.Latex object>"
      ]
     },
     "metadata": {},
     "output_type": "display_data"
    }
   ],
   "source": [
    "matrix_transition = np.zeros((T_range_count, T_range_count))\n",
    "dict_transition = {}\n",
    "\n",
    "for i in range(len(matrix_temp_year)):\n",
    "    T_range = T_min + T_range_len\n",
    "    index_feb = 0\n",
    "    \n",
    "    while matrix_temp_year[i][0] >= T_range:\n",
    "        T_range += T_range_len\n",
    "        index_feb += 1\n",
    "    \n",
    "    T_range = T_min + T_range_len\n",
    "    index_may = 0\n",
    "    while matrix_temp_year[i][9] >= T_range:\n",
    "        T_range += T_range_len\n",
    "        index_may += 1\n",
    "    \n",
    "    if index_feb not in dict_transition:\n",
    "        dict_transition[index_feb] = {'count': 0, 'indexes': []}\n",
    "    dict_transition[index_feb]['count'] += 1\n",
    "    dict_transition[index_feb]['indexes'].append(index_may)\n",
    "\n",
    "for i in range(T_range_count):\n",
    "    if i in dict_transition:\n",
    "        for j in dict_transition[i]['indexes']:\n",
    "            matrix_transition[i][j] += 1/dict_transition[i]['count']\n",
    "            \n",
    "display(HTML(\"<h3>Матрица переходов с февраля в май</h3>\"))\n",
    "display(Latex(matrix_print(matrix_transition)))\n",
    "            "
   ]
  },
  {
   "cell_type": "markdown",
   "metadata": {},
   "source": [
    "Теперь можно найти распределение вероятностей температур для мая 2025 года\n",
    "Находится по формуле \\\\(\\pi[10] = P^T \\cdot \\pi[1]\\\\)"
   ]
  },
  {
   "cell_type": "code",
   "execution_count": 203,
   "metadata": {},
   "outputs": [
    {
     "data": {
      "text/latex": [
       "\\begin{bmatrix}\n",
       "0.0000 \\\\ \n",
       "0.0000 \\\\ \n",
       "0.0000 \\\\ \n",
       "0.0000 \\\\ \n",
       "0.0000 \\\\ \n",
       "0.0000 \\\\ \n",
       "0.0000 \\\\ \n",
       "0.3333 \\\\ \n",
       "0.0000 \\\\ \n",
       "0.6667 \\\\ \n",
       "\\end{bmatrix}"
      ],
      "text/plain": [
       "<IPython.core.display.Latex object>"
      ]
     },
     "metadata": {},
     "output_type": "display_data"
    }
   ],
   "source": [
    "pi_10 = np.dot(matrix_transition.T, pi_1)\n",
    "display(Latex(matrix_print(pi_10)))"
   ]
  },
  {
   "cell_type": "code",
   "execution_count": 204,
   "metadata": {},
   "outputs": [
    {
     "data": {
      "text/latex": [
       "$\\displaystyle \\text{В мае будет температура} \\\\ \n",
       "\\text{в промежутке: от }-16.1300\\text{ до }-12.5079\\text{ с вероятностью }0.0000 \\\\ \n",
       "\\text{в промежутке: от }-12.5079\\text{ до }-8.8858\\text{ с вероятностью }0.0000 \\\\ \n",
       "\\text{в промежутке: от }-8.8858\\text{ до }-5.2637\\text{ с вероятностью }0.0000 \\\\ \n",
       "\\text{в промежутке: от }-5.2637\\text{ до }-1.6416\\text{ с вероятностью }0.0000 \\\\ \n",
       "\\text{в промежутке: от }-1.6416\\text{ до }1.9805\\text{ с вероятностью }0.0000 \\\\ \n",
       "\\text{в промежутке: от }1.9805\\text{ до }5.6026\\text{ с вероятностью }0.0000 \\\\ \n",
       "\\text{в промежутке: от }5.6026\\text{ до }9.2247\\text{ с вероятностью }0.0000 \\\\ \n",
       "\\text{в промежутке: от }9.2247\\text{ до }12.8468\\text{ с вероятностью }0.3333 \\\\ \n",
       "\\text{в промежутке: от }12.8468\\text{ до }16.4689\\text{ с вероятностью }0.0000 \\\\ \n",
       "\\text{в промежутке: от }16.4689\\text{ до }20.0910\\text{ с вероятностью }0.6667 \\\\ \n",
       "$"
      ],
      "text/plain": [
       "<IPython.core.display.Math object>"
      ]
     },
     "metadata": {},
     "output_type": "display_data"
    }
   ],
   "source": [
    "latex_str = \"\\\\text{В мае будет температура} \\\\\\\\ \\n\"\n",
    "\n",
    "count = 0\n",
    "for row in np.arange(T_min, T_max, T_range_len):\n",
    "    latex_str += \"\\\\text{в промежутке: от }\" +  f\"{row:.4f}\" + \"\\\\text{ до }\" + f\"{row + T_range_len:.4f}\" + \"\\\\text{ с вероятностью }\" + f\"{pi_10[count][0]:.4f}\" + \" \\\\\\\\ \\n\"\n",
    "    count += 1\n",
    "display(Math(latex_str))"
   ]
  },
  {
   "cell_type": "code",
   "execution_count": 205,
   "metadata": {},
   "outputs": [
    {
     "data": {
      "text/html": [
       "<h1>Вариант 2<h1>"
      ],
      "text/plain": [
       "<IPython.core.display.HTML object>"
      ]
     },
     "metadata": {},
     "output_type": "display_data"
    }
   ],
   "source": [
    "display(HTML('<h1>Вариант 2<h1>'))"
   ]
  },
  {
   "cell_type": "code",
   "execution_count": 206,
   "metadata": {},
   "outputs": [
    {
     "data": {
      "text/html": [
       "<h3>Матрица вероятностей переходов из любой температуры в любую</h3>"
      ],
      "text/plain": [
       "<IPython.core.display.HTML object>"
      ]
     },
     "metadata": {},
     "output_type": "display_data"
    },
    {
     "data": {
      "text/latex": [
       "\\begin{bmatrix}\n",
       "0.0000 & 0.0000 & 1.0000 & 0.0000 & 0.0000 & 0.0000 & 0.0000 & 0.0000 & 0.0000 & 0.0000 \\\\ \n",
       "0.0000 & 0.0000 & 0.5000 & 0.0000 & 0.5000 & 0.0000 & 0.0000 & 0.0000 & 0.0000 & 0.0000 \\\\ \n",
       "0.1667 & 0.0000 & 0.0000 & 0.5000 & 0.3333 & 0.0000 & 0.0000 & 0.0000 & 0.0000 & 0.0000 \\\\ \n",
       "0.0000 & 0.0909 & 0.1818 & 0.0909 & 0.4545 & 0.1818 & 0.0000 & 0.0000 & 0.0000 & 0.0000 \\\\ \n",
       "0.0000 & 0.0000 & 0.0000 & 0.0870 & 0.4348 & 0.4348 & 0.0435 & 0.0000 & 0.0000 & 0.0000 \\\\ \n",
       "0.0000 & 0.0000 & 0.0000 & 0.0000 & 0.0417 & 0.3750 & 0.5000 & 0.0833 & 0.0000 & 0.0000 \\\\ \n",
       "0.0000 & 0.0000 & 0.0000 & 0.0000 & 0.0667 & 0.2000 & 0.0667 & 0.4000 & 0.2000 & 0.0667 \\\\ \n",
       "0.0000 & 0.0000 & 0.0000 & 0.0000 & 0.0000 & 0.0000 & 0.0000 & 0.4545 & 0.3636 & 0.1818 \\\\ \n",
       "0.0000 & 0.0000 & 0.0000 & 0.0000 & 0.0000 & 0.0000 & 0.4000 & 0.4000 & 0.2000 & 0.0000 \\\\ \n",
       "0.0000 & 0.0000 & 0.0000 & 0.0000 & 0.0000 & 0.0000 & 0.0000 & 0.0000 & 0.0000 & 1.0000 \\\\ \n",
       "\\end{bmatrix}"
      ],
      "text/plain": [
       "<IPython.core.display.Latex object>"
      ]
     },
     "metadata": {},
     "output_type": "display_data"
    }
   ],
   "source": [
    "matrix_transition = np.zeros((T_range_count, T_range_count))\n",
    "dict_transition = {}\n",
    "\n",
    "for trans in range(9):\n",
    "    for i in range(len(matrix_temp_year)):\n",
    "        T_range = T_min + T_range_len\n",
    "        index_cur = 0\n",
    "        \n",
    "        while matrix_temp_year[i][trans] >= T_range:\n",
    "            T_range += T_range_len\n",
    "            index_cur += 1\n",
    "        \n",
    "        T_range = T_min + T_range_len\n",
    "        index_next = 0\n",
    "        while matrix_temp_year[i][trans+1] >= T_range:\n",
    "            T_range += T_range_len\n",
    "            index_next += 1\n",
    "        \n",
    "        if index_cur not in dict_transition:\n",
    "            dict_transition[index_cur] = {'count': 0, 'indexes': []}\n",
    "        dict_transition[index_cur]['count'] += 1\n",
    "        dict_transition[index_cur]['indexes'].append(index_next)\n",
    "\n",
    "for i in range(T_range_count):\n",
    "    if i in dict_transition:\n",
    "        for j in dict_transition[i]['indexes']:\n",
    "            matrix_transition[i][j] += 1/dict_transition[i]['count']\n",
    "\n",
    "display(HTML(\"<h3>Матрица вероятностей переходов из любой температуры в любую</h3>\"))                \n",
    "display(Latex(matrix_print(matrix_transition)))"
   ]
  },
  {
   "cell_type": "markdown",
   "metadata": {},
   "source": [
    "Теперь можно найти распределение вероятностей температур для мая 2025 года\n",
    "Находится по формуле \\\\(\\pi[10] = (P^T)^9 \\cdot \\pi[1]\\\\)"
   ]
  },
  {
   "cell_type": "code",
   "execution_count": 207,
   "metadata": {},
   "outputs": [
    {
     "data": {
      "text/latex": [
       "\\begin{bmatrix}\n",
       "0.0006 \\\\ \n",
       "0.0008 \\\\ \n",
       "0.0028 \\\\ \n",
       "0.0067 \\\\ \n",
       "0.0396 \\\\ \n",
       "0.0885 \\\\ \n",
       "0.1249 \\\\ \n",
       "0.2389 \\\\ \n",
       "0.1492 \\\\ \n",
       "0.3482 \\\\ \n",
       "\\end{bmatrix}"
      ],
      "text/plain": [
       "<IPython.core.display.Latex object>"
      ]
     },
     "metadata": {},
     "output_type": "display_data"
    }
   ],
   "source": [
    "pi_10 = np.dot(np.linalg.matrix_power(matrix_transition.T, 9), pi_1)\n",
    "display(Latex(matrix_print(pi_10)))"
   ]
  },
  {
   "cell_type": "code",
   "execution_count": 208,
   "metadata": {},
   "outputs": [
    {
     "data": {
      "text/latex": [
       "$\\displaystyle \\text{В мае будет температура} \\\\ \n",
       "\\text{в промежутке: от }-16.1300\\text{ до }-12.5079\\text{ с вероятностью }0.0006 \\\\ \n",
       "\\text{в промежутке: от }-12.5079\\text{ до }-8.8858\\text{ с вероятностью }0.0008 \\\\ \n",
       "\\text{в промежутке: от }-8.8858\\text{ до }-5.2637\\text{ с вероятностью }0.0028 \\\\ \n",
       "\\text{в промежутке: от }-5.2637\\text{ до }-1.6416\\text{ с вероятностью }0.0067 \\\\ \n",
       "\\text{в промежутке: от }-1.6416\\text{ до }1.9805\\text{ с вероятностью }0.0396 \\\\ \n",
       "\\text{в промежутке: от }1.9805\\text{ до }5.6026\\text{ с вероятностью }0.0885 \\\\ \n",
       "\\text{в промежутке: от }5.6026\\text{ до }9.2247\\text{ с вероятностью }0.1249 \\\\ \n",
       "\\text{в промежутке: от }9.2247\\text{ до }12.8468\\text{ с вероятностью }0.2389 \\\\ \n",
       "\\text{в промежутке: от }12.8468\\text{ до }16.4689\\text{ с вероятностью }0.1492 \\\\ \n",
       "\\text{в промежутке: от }16.4689\\text{ до }20.0910\\text{ с вероятностью }0.3482 \\\\ \n",
       "$"
      ],
      "text/plain": [
       "<IPython.core.display.Math object>"
      ]
     },
     "metadata": {},
     "output_type": "display_data"
    }
   ],
   "source": [
    "latex_str = \"\\\\text{В мае будет температура} \\\\\\\\ \\n\"\n",
    "\n",
    "count = 0\n",
    "for row in np.arange(T_min, T_max, T_range_len):\n",
    "    latex_str += \"\\\\text{в промежутке: от }\" +  f\"{row:.4f}\" + \"\\\\text{ до }\" + f\"{row + T_range_len:.4f}\" + \"\\\\text{ с вероятностью }\" + f\"{pi_10[count][0]:.4f}\" + \" \\\\\\\\ \\n\"\n",
    "    count += 1\n",
    "display(Math(latex_str))"
   ]
  },
  {
   "cell_type": "code",
   "execution_count": 209,
   "metadata": {},
   "outputs": [
    {
     "data": {
      "text/html": [
       "<h1>Вариант 3<h1>"
      ],
      "text/plain": [
       "<IPython.core.display.HTML object>"
      ]
     },
     "metadata": {},
     "output_type": "display_data"
    }
   ],
   "source": [
    "display(HTML('<h1>Вариант 3<h1>'))"
   ]
  },
  {
   "cell_type": "code",
   "execution_count": 210,
   "metadata": {},
   "outputs": [
    {
     "data": {
      "text/html": [
       "<h3>Матрица вероятностей переходов из любой температуры в любую</h3>"
      ],
      "text/plain": [
       "<IPython.core.display.HTML object>"
      ]
     },
     "metadata": {},
     "output_type": "display_data"
    },
    {
     "data": {
      "text/html": [
       "<h3>Из 0 в 1</h3>"
      ],
      "text/plain": [
       "<IPython.core.display.HTML object>"
      ]
     },
     "metadata": {},
     "output_type": "display_data"
    },
    {
     "data": {
      "text/latex": [
       "\\begin{bmatrix}\n",
       "0.0000 & 0.0000 & 0.0000 & 0.0000 & 0.0000 & 0.0000 & 0.0000 & 0.0000 & 0.0000 & 0.0000 \\\\ \n",
       "0.0000 & 0.0000 & 0.0000 & 0.0000 & 1.0000 & 0.0000 & 0.0000 & 0.0000 & 0.0000 & 0.0000 \\\\ \n",
       "0.5000 & 0.0000 & 0.0000 & 0.5000 & 0.0000 & 0.0000 & 0.0000 & 0.0000 & 0.0000 & 0.0000 \\\\ \n",
       "0.0000 & 0.0000 & 0.2000 & 0.2000 & 0.4000 & 0.2000 & 0.0000 & 0.0000 & 0.0000 & 0.0000 \\\\ \n",
       "0.0000 & 0.0000 & 0.0000 & 0.3333 & 0.6667 & 0.0000 & 0.0000 & 0.0000 & 0.0000 & 0.0000 \\\\ \n",
       "0.0000 & 0.0000 & 0.0000 & 0.0000 & 0.0000 & 0.0000 & 0.0000 & 0.0000 & 0.0000 & 0.0000 \\\\ \n",
       "0.0000 & 0.0000 & 0.0000 & 0.0000 & 0.0000 & 0.0000 & 0.0000 & 0.0000 & 0.0000 & 0.0000 \\\\ \n",
       "0.0000 & 0.0000 & 0.0000 & 0.0000 & 0.0000 & 0.0000 & 0.0000 & 0.0000 & 0.0000 & 0.0000 \\\\ \n",
       "0.0000 & 0.0000 & 0.0000 & 0.0000 & 0.0000 & 0.0000 & 0.0000 & 0.0000 & 0.0000 & 0.0000 \\\\ \n",
       "0.0000 & 0.0000 & 0.0000 & 0.0000 & 0.0000 & 0.0000 & 0.0000 & 0.0000 & 0.0000 & 0.0000 \\\\ \n",
       "\\end{bmatrix}"
      ],
      "text/plain": [
       "<IPython.core.display.Latex object>"
      ]
     },
     "metadata": {},
     "output_type": "display_data"
    },
    {
     "data": {
      "text/html": [
       "<h3>Из 1 в 2</h3>"
      ],
      "text/plain": [
       "<IPython.core.display.HTML object>"
      ]
     },
     "metadata": {},
     "output_type": "display_data"
    },
    {
     "data": {
      "text/latex": [
       "\\begin{bmatrix}\n",
       "0.0000 & 0.0000 & 1.0000 & 0.0000 & 0.0000 & 0.0000 & 0.0000 & 0.0000 & 0.0000 & 0.0000 \\\\ \n",
       "0.0000 & 0.0000 & 0.0000 & 0.0000 & 0.0000 & 0.0000 & 0.0000 & 0.0000 & 0.0000 & 0.0000 \\\\ \n",
       "0.0000 & 0.0000 & 0.0000 & 0.0000 & 1.0000 & 0.0000 & 0.0000 & 0.0000 & 0.0000 & 0.0000 \\\\ \n",
       "0.0000 & 0.3333 & 0.3333 & 0.0000 & 0.0000 & 0.3333 & 0.0000 & 0.0000 & 0.0000 & 0.0000 \\\\ \n",
       "0.0000 & 0.0000 & 0.0000 & 0.2000 & 0.8000 & 0.0000 & 0.0000 & 0.0000 & 0.0000 & 0.0000 \\\\ \n",
       "0.0000 & 0.0000 & 0.0000 & 0.0000 & 0.0000 & 1.0000 & 0.0000 & 0.0000 & 0.0000 & 0.0000 \\\\ \n",
       "0.0000 & 0.0000 & 0.0000 & 0.0000 & 0.0000 & 0.0000 & 0.0000 & 0.0000 & 0.0000 & 0.0000 \\\\ \n",
       "0.0000 & 0.0000 & 0.0000 & 0.0000 & 0.0000 & 0.0000 & 0.0000 & 0.0000 & 0.0000 & 0.0000 \\\\ \n",
       "0.0000 & 0.0000 & 0.0000 & 0.0000 & 0.0000 & 0.0000 & 0.0000 & 0.0000 & 0.0000 & 0.0000 \\\\ \n",
       "0.0000 & 0.0000 & 0.0000 & 0.0000 & 0.0000 & 0.0000 & 0.0000 & 0.0000 & 0.0000 & 0.0000 \\\\ \n",
       "\\end{bmatrix}"
      ],
      "text/plain": [
       "<IPython.core.display.Latex object>"
      ]
     },
     "metadata": {},
     "output_type": "display_data"
    },
    {
     "data": {
      "text/html": [
       "<h3>Из 2 в 3</h3>"
      ],
      "text/plain": [
       "<IPython.core.display.HTML object>"
      ]
     },
     "metadata": {},
     "output_type": "display_data"
    },
    {
     "data": {
      "text/latex": [
       "\\begin{bmatrix}\n",
       "0.0000 & 0.0000 & 0.0000 & 0.0000 & 0.0000 & 0.0000 & 0.0000 & 0.0000 & 0.0000 & 0.0000 \\\\ \n",
       "0.0000 & 0.0000 & 1.0000 & 0.0000 & 0.0000 & 0.0000 & 0.0000 & 0.0000 & 0.0000 & 0.0000 \\\\ \n",
       "0.0000 & 0.0000 & 0.0000 & 0.5000 & 0.5000 & 0.0000 & 0.0000 & 0.0000 & 0.0000 & 0.0000 \\\\ \n",
       "0.0000 & 0.0000 & 0.0000 & 0.0000 & 1.0000 & 0.0000 & 0.0000 & 0.0000 & 0.0000 & 0.0000 \\\\ \n",
       "0.0000 & 0.0000 & 0.0000 & 0.0000 & 0.4000 & 0.6000 & 0.0000 & 0.0000 & 0.0000 & 0.0000 \\\\ \n",
       "0.0000 & 0.0000 & 0.0000 & 0.0000 & 0.0000 & 1.0000 & 0.0000 & 0.0000 & 0.0000 & 0.0000 \\\\ \n",
       "0.0000 & 0.0000 & 0.0000 & 0.0000 & 0.0000 & 0.0000 & 0.0000 & 0.0000 & 0.0000 & 0.0000 \\\\ \n",
       "0.0000 & 0.0000 & 0.0000 & 0.0000 & 0.0000 & 0.0000 & 0.0000 & 0.0000 & 0.0000 & 0.0000 \\\\ \n",
       "0.0000 & 0.0000 & 0.0000 & 0.0000 & 0.0000 & 0.0000 & 0.0000 & 0.0000 & 0.0000 & 0.0000 \\\\ \n",
       "0.0000 & 0.0000 & 0.0000 & 0.0000 & 0.0000 & 0.0000 & 0.0000 & 0.0000 & 0.0000 & 0.0000 \\\\ \n",
       "\\end{bmatrix}"
      ],
      "text/plain": [
       "<IPython.core.display.Latex object>"
      ]
     },
     "metadata": {},
     "output_type": "display_data"
    },
    {
     "data": {
      "text/html": [
       "<h3>Из 3 в 4</h3>"
      ],
      "text/plain": [
       "<IPython.core.display.HTML object>"
      ]
     },
     "metadata": {},
     "output_type": "display_data"
    },
    {
     "data": {
      "text/latex": [
       "\\begin{bmatrix}\n",
       "0.0000 & 0.0000 & 0.0000 & 0.0000 & 0.0000 & 0.0000 & 0.0000 & 0.0000 & 0.0000 & 0.0000 \\\\ \n",
       "0.0000 & 0.0000 & 0.0000 & 0.0000 & 0.0000 & 0.0000 & 0.0000 & 0.0000 & 0.0000 & 0.0000 \\\\ \n",
       "0.0000 & 0.0000 & 0.0000 & 1.0000 & 0.0000 & 0.0000 & 0.0000 & 0.0000 & 0.0000 & 0.0000 \\\\ \n",
       "0.0000 & 0.0000 & 0.0000 & 0.0000 & 1.0000 & 0.0000 & 0.0000 & 0.0000 & 0.0000 & 0.0000 \\\\ \n",
       "0.0000 & 0.0000 & 0.0000 & 0.0000 & 0.5000 & 0.5000 & 0.0000 & 0.0000 & 0.0000 & 0.0000 \\\\ \n",
       "0.0000 & 0.0000 & 0.0000 & 0.0000 & 0.2000 & 0.6000 & 0.2000 & 0.0000 & 0.0000 & 0.0000 \\\\ \n",
       "0.0000 & 0.0000 & 0.0000 & 0.0000 & 0.0000 & 0.0000 & 0.0000 & 0.0000 & 0.0000 & 0.0000 \\\\ \n",
       "0.0000 & 0.0000 & 0.0000 & 0.0000 & 0.0000 & 0.0000 & 0.0000 & 0.0000 & 0.0000 & 0.0000 \\\\ \n",
       "0.0000 & 0.0000 & 0.0000 & 0.0000 & 0.0000 & 0.0000 & 0.0000 & 0.0000 & 0.0000 & 0.0000 \\\\ \n",
       "0.0000 & 0.0000 & 0.0000 & 0.0000 & 0.0000 & 0.0000 & 0.0000 & 0.0000 & 0.0000 & 0.0000 \\\\ \n",
       "\\end{bmatrix}"
      ],
      "text/plain": [
       "<IPython.core.display.Latex object>"
      ]
     },
     "metadata": {},
     "output_type": "display_data"
    },
    {
     "data": {
      "text/html": [
       "<h3>Из 4 в 5</h3>"
      ],
      "text/plain": [
       "<IPython.core.display.HTML object>"
      ]
     },
     "metadata": {},
     "output_type": "display_data"
    },
    {
     "data": {
      "text/latex": [
       "\\begin{bmatrix}\n",
       "0.0000 & 0.0000 & 0.0000 & 0.0000 & 0.0000 & 0.0000 & 0.0000 & 0.0000 & 0.0000 & 0.0000 \\\\ \n",
       "0.0000 & 0.0000 & 0.0000 & 0.0000 & 0.0000 & 0.0000 & 0.0000 & 0.0000 & 0.0000 & 0.0000 \\\\ \n",
       "0.0000 & 0.0000 & 0.0000 & 0.0000 & 0.0000 & 0.0000 & 0.0000 & 0.0000 & 0.0000 & 0.0000 \\\\ \n",
       "0.0000 & 0.0000 & 0.0000 & 0.0000 & 1.0000 & 0.0000 & 0.0000 & 0.0000 & 0.0000 & 0.0000 \\\\ \n",
       "0.0000 & 0.0000 & 0.0000 & 0.0000 & 0.0000 & 1.0000 & 0.0000 & 0.0000 & 0.0000 & 0.0000 \\\\ \n",
       "0.0000 & 0.0000 & 0.0000 & 0.0000 & 0.0000 & 0.4000 & 0.6000 & 0.0000 & 0.0000 & 0.0000 \\\\ \n",
       "0.0000 & 0.0000 & 0.0000 & 0.0000 & 1.0000 & 0.0000 & 0.0000 & 0.0000 & 0.0000 & 0.0000 \\\\ \n",
       "0.0000 & 0.0000 & 0.0000 & 0.0000 & 0.0000 & 0.0000 & 0.0000 & 0.0000 & 0.0000 & 0.0000 \\\\ \n",
       "0.0000 & 0.0000 & 0.0000 & 0.0000 & 0.0000 & 0.0000 & 0.0000 & 0.0000 & 0.0000 & 0.0000 \\\\ \n",
       "0.0000 & 0.0000 & 0.0000 & 0.0000 & 0.0000 & 0.0000 & 0.0000 & 0.0000 & 0.0000 & 0.0000 \\\\ \n",
       "\\end{bmatrix}"
      ],
      "text/plain": [
       "<IPython.core.display.Latex object>"
      ]
     },
     "metadata": {},
     "output_type": "display_data"
    },
    {
     "data": {
      "text/html": [
       "<h3>Из 5 в 6</h3>"
      ],
      "text/plain": [
       "<IPython.core.display.HTML object>"
      ]
     },
     "metadata": {},
     "output_type": "display_data"
    },
    {
     "data": {
      "text/latex": [
       "\\begin{bmatrix}\n",
       "0.0000 & 0.0000 & 0.0000 & 0.0000 & 0.0000 & 0.0000 & 0.0000 & 0.0000 & 0.0000 & 0.0000 \\\\ \n",
       "0.0000 & 0.0000 & 0.0000 & 0.0000 & 0.0000 & 0.0000 & 0.0000 & 0.0000 & 0.0000 & 0.0000 \\\\ \n",
       "0.0000 & 0.0000 & 0.0000 & 0.0000 & 0.0000 & 0.0000 & 0.0000 & 0.0000 & 0.0000 & 0.0000 \\\\ \n",
       "0.0000 & 0.0000 & 0.0000 & 0.0000 & 0.0000 & 0.0000 & 0.0000 & 0.0000 & 0.0000 & 0.0000 \\\\ \n",
       "0.0000 & 0.0000 & 0.0000 & 0.0000 & 0.0000 & 0.5000 & 0.5000 & 0.0000 & 0.0000 & 0.0000 \\\\ \n",
       "0.0000 & 0.0000 & 0.0000 & 0.0000 & 0.0000 & 0.1667 & 0.8333 & 0.0000 & 0.0000 & 0.0000 \\\\ \n",
       "0.0000 & 0.0000 & 0.0000 & 0.0000 & 0.0000 & 0.3333 & 0.0000 & 0.3333 & 0.3333 & 0.0000 \\\\ \n",
       "0.0000 & 0.0000 & 0.0000 & 0.0000 & 0.0000 & 0.0000 & 0.0000 & 0.0000 & 0.0000 & 0.0000 \\\\ \n",
       "0.0000 & 0.0000 & 0.0000 & 0.0000 & 0.0000 & 0.0000 & 0.0000 & 0.0000 & 0.0000 & 0.0000 \\\\ \n",
       "0.0000 & 0.0000 & 0.0000 & 0.0000 & 0.0000 & 0.0000 & 0.0000 & 0.0000 & 0.0000 & 0.0000 \\\\ \n",
       "\\end{bmatrix}"
      ],
      "text/plain": [
       "<IPython.core.display.Latex object>"
      ]
     },
     "metadata": {},
     "output_type": "display_data"
    },
    {
     "data": {
      "text/html": [
       "<h3>Из 6 в 7</h3>"
      ],
      "text/plain": [
       "<IPython.core.display.HTML object>"
      ]
     },
     "metadata": {},
     "output_type": "display_data"
    },
    {
     "data": {
      "text/latex": [
       "\\begin{bmatrix}\n",
       "0.0000 & 0.0000 & 0.0000 & 0.0000 & 0.0000 & 0.0000 & 0.0000 & 0.0000 & 0.0000 & 0.0000 \\\\ \n",
       "0.0000 & 0.0000 & 0.0000 & 0.0000 & 0.0000 & 0.0000 & 0.0000 & 0.0000 & 0.0000 & 0.0000 \\\\ \n",
       "0.0000 & 0.0000 & 0.0000 & 0.0000 & 0.0000 & 0.0000 & 0.0000 & 0.0000 & 0.0000 & 0.0000 \\\\ \n",
       "0.0000 & 0.0000 & 0.0000 & 0.0000 & 0.0000 & 0.0000 & 0.0000 & 0.0000 & 0.0000 & 0.0000 \\\\ \n",
       "0.0000 & 0.0000 & 0.0000 & 0.0000 & 0.0000 & 0.0000 & 0.0000 & 0.0000 & 0.0000 & 0.0000 \\\\ \n",
       "0.0000 & 0.0000 & 0.0000 & 0.0000 & 0.0000 & 0.0000 & 0.6667 & 0.3333 & 0.0000 & 0.0000 \\\\ \n",
       "0.0000 & 0.0000 & 0.0000 & 0.0000 & 0.0000 & 0.3333 & 0.1667 & 0.3333 & 0.1667 & 0.0000 \\\\ \n",
       "0.0000 & 0.0000 & 0.0000 & 0.0000 & 0.0000 & 0.0000 & 0.0000 & 1.0000 & 0.0000 & 0.0000 \\\\ \n",
       "0.0000 & 0.0000 & 0.0000 & 0.0000 & 0.0000 & 0.0000 & 0.0000 & 1.0000 & 0.0000 & 0.0000 \\\\ \n",
       "0.0000 & 0.0000 & 0.0000 & 0.0000 & 0.0000 & 0.0000 & 0.0000 & 0.0000 & 0.0000 & 0.0000 \\\\ \n",
       "\\end{bmatrix}"
      ],
      "text/plain": [
       "<IPython.core.display.Latex object>"
      ]
     },
     "metadata": {},
     "output_type": "display_data"
    },
    {
     "data": {
      "text/html": [
       "<h3>Из 7 в 8</h3>"
      ],
      "text/plain": [
       "<IPython.core.display.HTML object>"
      ]
     },
     "metadata": {},
     "output_type": "display_data"
    },
    {
     "data": {
      "text/latex": [
       "\\begin{bmatrix}\n",
       "0.0000 & 0.0000 & 0.0000 & 0.0000 & 0.0000 & 0.0000 & 0.0000 & 0.0000 & 0.0000 & 0.0000 \\\\ \n",
       "0.0000 & 0.0000 & 0.0000 & 0.0000 & 0.0000 & 0.0000 & 0.0000 & 0.0000 & 0.0000 & 0.0000 \\\\ \n",
       "0.0000 & 0.0000 & 0.0000 & 0.0000 & 0.0000 & 0.0000 & 0.0000 & 0.0000 & 0.0000 & 0.0000 \\\\ \n",
       "0.0000 & 0.0000 & 0.0000 & 0.0000 & 0.0000 & 0.0000 & 0.0000 & 0.0000 & 0.0000 & 0.0000 \\\\ \n",
       "0.0000 & 0.0000 & 0.0000 & 0.0000 & 0.0000 & 0.0000 & 0.0000 & 0.0000 & 0.0000 & 0.0000 \\\\ \n",
       "0.0000 & 0.0000 & 0.0000 & 0.0000 & 0.0000 & 0.0000 & 0.5000 & 0.5000 & 0.0000 & 0.0000 \\\\ \n",
       "0.0000 & 0.0000 & 0.0000 & 0.0000 & 0.0000 & 0.0000 & 0.0000 & 0.6667 & 0.0000 & 0.3333 \\\\ \n",
       "0.0000 & 0.0000 & 0.0000 & 0.0000 & 0.0000 & 0.0000 & 0.0000 & 0.4000 & 0.6000 & 0.0000 \\\\ \n",
       "0.0000 & 0.0000 & 0.0000 & 0.0000 & 0.0000 & 0.0000 & 1.0000 & 0.0000 & 0.0000 & 0.0000 \\\\ \n",
       "0.0000 & 0.0000 & 0.0000 & 0.0000 & 0.0000 & 0.0000 & 0.0000 & 0.0000 & 0.0000 & 0.0000 \\\\ \n",
       "\\end{bmatrix}"
      ],
      "text/plain": [
       "<IPython.core.display.Latex object>"
      ]
     },
     "metadata": {},
     "output_type": "display_data"
    },
    {
     "data": {
      "text/html": [
       "<h3>Из 8 в 9</h3>"
      ],
      "text/plain": [
       "<IPython.core.display.HTML object>"
      ]
     },
     "metadata": {},
     "output_type": "display_data"
    },
    {
     "data": {
      "text/latex": [
       "\\begin{bmatrix}\n",
       "0.0000 & 0.0000 & 0.0000 & 0.0000 & 0.0000 & 0.0000 & 0.0000 & 0.0000 & 0.0000 & 0.0000 \\\\ \n",
       "0.0000 & 0.0000 & 0.0000 & 0.0000 & 0.0000 & 0.0000 & 0.0000 & 0.0000 & 0.0000 & 0.0000 \\\\ \n",
       "0.0000 & 0.0000 & 0.0000 & 0.0000 & 0.0000 & 0.0000 & 0.0000 & 0.0000 & 0.0000 & 0.0000 \\\\ \n",
       "0.0000 & 0.0000 & 0.0000 & 0.0000 & 0.0000 & 0.0000 & 0.0000 & 0.0000 & 0.0000 & 0.0000 \\\\ \n",
       "0.0000 & 0.0000 & 0.0000 & 0.0000 & 0.0000 & 0.0000 & 0.0000 & 0.0000 & 0.0000 & 0.0000 \\\\ \n",
       "0.0000 & 0.0000 & 0.0000 & 0.0000 & 0.0000 & 0.0000 & 0.0000 & 0.0000 & 0.0000 & 0.0000 \\\\ \n",
       "0.0000 & 0.0000 & 0.0000 & 0.0000 & 0.0000 & 0.0000 & 0.0000 & 0.5000 & 0.5000 & 0.0000 \\\\ \n",
       "0.0000 & 0.0000 & 0.0000 & 0.0000 & 0.0000 & 0.0000 & 0.0000 & 0.4000 & 0.2000 & 0.4000 \\\\ \n",
       "0.0000 & 0.0000 & 0.0000 & 0.0000 & 0.0000 & 0.0000 & 0.3333 & 0.3333 & 0.3333 & 0.0000 \\\\ \n",
       "0.0000 & 0.0000 & 0.0000 & 0.0000 & 0.0000 & 0.0000 & 0.0000 & 0.0000 & 0.0000 & 1.0000 \\\\ \n",
       "\\end{bmatrix}"
      ],
      "text/plain": [
       "<IPython.core.display.Latex object>"
      ]
     },
     "metadata": {},
     "output_type": "display_data"
    }
   ],
   "source": [
    "matrix_transition = []\n",
    "for i in range(9):  \n",
    "    matrix_transition.append(np.zeros((T_range_count, T_range_count)))\n",
    "\n",
    "\n",
    "display(HTML(\"<h3>Матрица вероятностей переходов из любой температуры в любую</h3>\")) \n",
    "for trans in range(9):\n",
    "    dict_transition = {}\n",
    "    for i in range(len(matrix_temp_year)):\n",
    "        T_range = T_min + T_range_len\n",
    "        index_cur = 0\n",
    "        \n",
    "        while matrix_temp_year[i][trans] >= T_range:\n",
    "            T_range += T_range_len\n",
    "            index_cur += 1\n",
    "        \n",
    "        T_range = T_min + T_range_len\n",
    "        index_next = 0\n",
    "        while matrix_temp_year[i][trans+1] >= T_range:\n",
    "            T_range += T_range_len\n",
    "            index_next += 1\n",
    "        \n",
    "        if index_cur not in dict_transition:\n",
    "            dict_transition[index_cur] = {'count': 0, 'indexes': []}\n",
    "        dict_transition[index_cur]['count'] += 1\n",
    "        dict_transition[index_cur]['indexes'].append(index_next)\n",
    "\n",
    "    for i in range(T_range_count):\n",
    "        if i in dict_transition:\n",
    "            for j in dict_transition[i]['indexes']:\n",
    "                matrix_transition[trans][i][j] += 1/dict_transition[i]['count']\n",
    "    \n",
    "    display(HTML(f\"<h3>Из {trans} в {trans + 1}</h3>\"), Latex(matrix_print(matrix_transition[trans])))              "
   ]
  },
  {
   "cell_type": "markdown",
   "metadata": {},
   "source": [
    "Теперь можно найти распределение вероятностей температур для мая 2025 года\n",
    "Находится по формуле \\\\(\\pi[10] = P^T(9,10) \\cdot P^T(8,9) \\cdot \\ldots \\cdot P^T(1,2) \\pi[1]\\\\)"
   ]
  },
  {
   "cell_type": "code",
   "execution_count": 211,
   "metadata": {},
   "outputs": [
    {
     "data": {
      "text/latex": [
       "\\begin{bmatrix}\n",
       "0.0000 \\\\ \n",
       "0.0000 \\\\ \n",
       "0.0000 \\\\ \n",
       "0.0000 \\\\ \n",
       "0.0000 \\\\ \n",
       "0.0000 \\\\ \n",
       "0.0912 \\\\ \n",
       "0.3630 \\\\ \n",
       "0.2719 \\\\ \n",
       "0.2739 \\\\ \n",
       "\\end{bmatrix}"
      ],
      "text/plain": [
       "<IPython.core.display.Latex object>"
      ]
     },
     "metadata": {},
     "output_type": "display_data"
    }
   ],
   "source": [
    "tmp_dot = matrix_transition[8].T\n",
    "for i in range(8):\n",
    "    tmp_dot = np.dot(tmp_dot, matrix_transition[7-i].T)\n",
    "pi_10 = np.dot(tmp_dot, pi_1)\n",
    "display(Latex(matrix_print(pi_10)))"
   ]
  },
  {
   "cell_type": "code",
   "execution_count": 212,
   "metadata": {},
   "outputs": [
    {
     "data": {
      "text/latex": [
       "$\\displaystyle \\text{В мае будет температура} \\\\ \n",
       "\\text{в промежутке: от }-16.1300\\text{ до }-12.5079\\text{ с вероятностью }0.0000 \\\\ \n",
       "\\text{в промежутке: от }-12.5079\\text{ до }-8.8858\\text{ с вероятностью }0.0000 \\\\ \n",
       "\\text{в промежутке: от }-8.8858\\text{ до }-5.2637\\text{ с вероятностью }0.0000 \\\\ \n",
       "\\text{в промежутке: от }-5.2637\\text{ до }-1.6416\\text{ с вероятностью }0.0000 \\\\ \n",
       "\\text{в промежутке: от }-1.6416\\text{ до }1.9805\\text{ с вероятностью }0.0000 \\\\ \n",
       "\\text{в промежутке: от }1.9805\\text{ до }5.6026\\text{ с вероятностью }0.0000 \\\\ \n",
       "\\text{в промежутке: от }5.6026\\text{ до }9.2247\\text{ с вероятностью }0.0912 \\\\ \n",
       "\\text{в промежутке: от }9.2247\\text{ до }12.8468\\text{ с вероятностью }0.3630 \\\\ \n",
       "\\text{в промежутке: от }12.8468\\text{ до }16.4689\\text{ с вероятностью }0.2719 \\\\ \n",
       "\\text{в промежутке: от }16.4689\\text{ до }20.0910\\text{ с вероятностью }0.2739 \\\\ \n",
       "$"
      ],
      "text/plain": [
       "<IPython.core.display.Math object>"
      ]
     },
     "metadata": {},
     "output_type": "display_data"
    }
   ],
   "source": [
    "latex_str = \"\\\\text{В мае будет температура} \\\\\\\\ \\n\"\n",
    "\n",
    "count = 0\n",
    "for row in np.arange(T_min, T_max, T_range_len):\n",
    "    latex_str += \"\\\\text{в промежутке: от }\" +  f\"{row:.4f}\" + \"\\\\text{ до }\" + f\"{row + T_range_len:.4f}\" + \"\\\\text{ с вероятностью }\" + f\"{pi_10[count][0]:.4f}\" + \" \\\\\\\\ \\n\"\n",
    "    count += 1\n",
    "display(Math(latex_str))"
   ]
  }
 ],
 "metadata": {
  "kernelspec": {
   "display_name": "Python 3 (ipykernel)",
   "language": "python",
   "name": "python3"
  },
  "language_info": {
   "codemirror_mode": {
    "name": "ipython",
    "version": 3
   },
   "file_extension": ".py",
   "mimetype": "text/x-python",
   "name": "python",
   "nbconvert_exporter": "python",
   "pygments_lexer": "ipython3",
   "version": "3.13.1"
  }
 },
 "nbformat": 4,
 "nbformat_minor": 4
}
