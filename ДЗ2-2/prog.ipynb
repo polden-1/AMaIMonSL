{
 "cells": [
  {
   "cell_type": "code",
   "execution_count": 246,
   "metadata": {},
   "outputs": [],
   "source": [
    "import numpy as np\n",
    "from scipy. integrate import odeint\n",
    "import matplotlib.pyplot as plt\n",
    "import sys, csv, openpyxl, copy\n",
    "from IPython.display import display, Math\n",
    "from eprint import eprint\n",
    "from time import time as time"
   ]
  },
  {
   "cell_type": "code",
   "execution_count": 221,
   "metadata": {},
   "outputs": [],
   "source": [
    "# lambda_A = 5\n",
    "# lambda_B = 5\n",
    "# N_A = 2\n",
    "# N_B = 2\n",
    "# R_A = 1\n",
    "# R_B = 2\n",
    "# min_A = 1\n",
    "# min_B = N_B\n",
    "\n",
    "# switch = [[N_A, N_B], [R_A, R_B]]"
   ]
  },
  {
   "cell_type": "code",
   "execution_count": 222,
   "metadata": {},
   "outputs": [],
   "source": [
    "# def get_switch(index, tmp_sw):\n",
    "#     tmp_switch = copy.deepcopy(tmp_sw)\n",
    "    \n",
    "#     tmp_switch[1][index] -= 1\n",
    "    \n",
    "#     # display(\"После изменения индекса\", tmp_switch)\n",
    "    \n",
    "#     if tmp_switch[1][index] < 0:\n",
    "#         tmp_switch[0][index] -= 1\n",
    "#         tmp_switch[1][index] = 0\n",
    "        \n",
    "#     # display(\"Корректировка индекса\", tmp_switch)\n",
    "    \n",
    "#     status = True\n",
    "#     if tmp_switch[0][0] < min_A or tmp_switch[0][1] < min_B:\n",
    "#         status = False\n",
    "        \n",
    "#     # display(\"возврат индекса\", tmp_switch)\n",
    "    \n",
    "#     return [tmp_switch[0], tmp_switch[1], status]"
   ]
  },
  {
   "cell_type": "code",
   "execution_count": 223,
   "metadata": {},
   "outputs": [],
   "source": [
    "\n",
    "# count = 1\n",
    "# status = [[copy.deepcopy(switch[0]), copy.deepcopy(switch[1]), True]]\n",
    "# display(N_A + R_A - min_A + N_B + R_B - min_B + 1)\n",
    "# for i in range(N_A + R_A - min_A + N_B + R_B - min_B + 2):\n",
    "#     for j in range((i+1) * 2):\n",
    "#         print(\"i\", i, \"j\", j, \"count\", count, \"index\", count - (i - j) - 1)\n",
    "#         status.append(get_switch(0, status[count - (i - j) - 1]))\n",
    "#         print(\"i\", i, \"j\", j, \"count\", count, \"index\", count - (i - j) - 2)\n",
    "#         status.append(get_switch(1, status[count - (i - j) - 2]))\n",
    "#         count += 2\n",
    "        \n",
    "\n",
    "\n",
    "# new_status = []\n",
    "# for item in status:\n",
    "#     if item not in new_status:\n",
    "#         new_status.append(item)\n",
    "\n",
    "# for i in range(len(new_status)):\n",
    "#     print(i, new_status[i])"
   ]
  },
  {
   "cell_type": "code",
   "execution_count": 224,
   "metadata": {},
   "outputs": [],
   "source": [
    "def matrix_to_latex(matrix, fmt=\".2f\", zero_tol=1e-12):\n",
    "    \"\"\"\n",
    "    Преобразует матрицу NumPy в LaTeX-формат с подписями строк и столбцов.\n",
    "    \n",
    "    :param matrix: 2D numpy array\n",
    "    :param fmt: формат чисел (по умолчанию 2 знака после запятой)\n",
    "    :param zero_tol: порог для округления к нулю\n",
    "    :return: строка LaTeX\n",
    "    \"\"\"\n",
    "    n_rows, n_cols = matrix.shape\n",
    "    rows = []\n",
    "\n",
    "    # Шапка с номерами столбцов\n",
    "    header = \" & \" + \" & \".join(f\"{j}\" for j in range(n_cols)) + r\" \\\\\"\n",
    "    rows.append(header)\n",
    "\n",
    "    # Строки с номерами строк\n",
    "    for i in range(n_rows):\n",
    "        formatted_row = [f\"{i}\"]  # номер строки\n",
    "        for val in matrix[i]:\n",
    "            if abs(val) < zero_tol:\n",
    "                formatted_row.append(\"0\")\n",
    "            else:\n",
    "                formatted_row.append(format(val, fmt))\n",
    "        rows.append(\" & \".join(formatted_row) + r\" \\\\\")\n",
    "\n",
    "    # Собираем LaTeX\n",
    "    body = \"\\n\".join(rows)\n",
    "    latex_str = \"\\n\\\\begin{array}{r\" + \"r\" * n_cols + \"}\\n\" + body + \"\\n\\\\end{array}\\n\"\n",
    "    return latex_str\n"
   ]
  },
  {
   "cell_type": "code",
   "execution_count": 225,
   "metadata": {},
   "outputs": [],
   "source": [
    "def vector_to_latex(vector):\n",
    "    \"\"\"\n",
    "    Преобразует список чисел в LaTeX-строку для отображения вектора в виде матрицы.\n",
    "    :param vector: список чисел (вектор)\n",
    "    :return: строка с LaTeX-кодом\n",
    "    \"\"\"\n",
    "    latex_str = \"\\\\begin{bmatrix} \" + \" \\\\\\\\ \".join(f\"{x:.4f}\" for x in vector) + \" \\\\end{bmatrix}\"\n",
    "    return latex_str"
   ]
  },
  {
   "cell_type": "code",
   "execution_count": 226,
   "metadata": {},
   "outputs": [
    {
     "data": {
      "text/latex": [
       "$\\displaystyle \\text{Матрица переходов}\\\\\n",
       "\\begin{array}{rrrrrrrrrrrrrrrr}\n",
       " & 0 & 1 & 2 & 3 & 4 & 5 & 6 & 7 & 8 & 9 & 10 & 11 & 12 & 13 & 14 \\\\\n",
       "0 & 0 & 10.00 & 10.00 & 0 & 0 & 0 & 0 & 0 & 0 & 0 & 0 & 0 & 0 & 0 & 0 \\\\\n",
       "1 & 70.00 & 0 & 0 & 10.00 & 10.00 & 0 & 0 & 0 & 0 & 0 & 0 & 0 & 0 & 0 & 0 \\\\\n",
       "2 & 70.00 & 0 & 0 & 0 & 10.00 & 10.00 & 0 & 0 & 0 & 0 & 0 & 0 & 0 & 0 & 0 \\\\\n",
       "3 & 0 & 70.00 & 0 & 0 & 0 & 0 & 10.00 & 10.00 & 0 & 0 & 0 & 0 & 0 & 0 & 0 \\\\\n",
       "4 & 0 & 70.00 & 0 & 0 & 0 & 0 & 0 & 10.00 & 10.00 & 0 & 0 & 0 & 0 & 0 & 0 \\\\\n",
       "5 & 0 & 0 & 70.00 & 0 & 0 & 0 & 0 & 0 & 10.00 & 5.00 & 0 & 0 & 0 & 0 & 0 \\\\\n",
       "6 & 0 & 0 & 0 & 70.00 & 0 & 0 & 0 & 0 & 0 & 0 & 0 & 0 & 0 & 0 & 0 \\\\\n",
       "7 & 0 & 0 & 0 & 0 & 70.00 & 0 & 0 & 0 & 0 & 0 & 10.00 & 10.00 & 0 & 0 & 0 \\\\\n",
       "8 & 0 & 0 & 0 & 0 & 70.00 & 0 & 0 & 0 & 0 & 0 & 0 & 10.00 & 5.00 & 0 & 0 \\\\\n",
       "9 & 0 & 0 & 0 & 0 & 0 & 70.00 & 0 & 0 & 0 & 0 & 0 & 0 & 0 & 0 & 0 \\\\\n",
       "10 & 0 & 0 & 0 & 0 & 0 & 0 & 0 & 70.00 & 0 & 0 & 0 & 0 & 0 & 0 & 0 \\\\\n",
       "11 & 0 & 0 & 0 & 0 & 0 & 0 & 0 & 70.00 & 0 & 0 & 0 & 0 & 0 & 10.00 & 5.00 \\\\\n",
       "12 & 0 & 0 & 0 & 0 & 0 & 0 & 0 & 0 & 70.00 & 0 & 0 & 0 & 0 & 0 & 0 \\\\\n",
       "13 & 0 & 0 & 0 & 0 & 0 & 0 & 0 & 0 & 0 & 0 & 0 & 70.00 & 0 & 0 & 0 \\\\\n",
       "14 & 0 & 0 & 0 & 0 & 0 & 0 & 0 & 0 & 0 & 0 & 0 & 70.00 & 0 & 0 & 0 \\\\\n",
       "\\end{array}\n",
       "$"
      ],
      "text/plain": [
       "<IPython.core.display.Math object>"
      ]
     },
     "metadata": {},
     "output_type": "display_data"
    },
    {
     "data": {
      "text/latex": [
       "$\\displaystyle \\text{Матрица интенисивностей}\\\\\n",
       "\\begin{array}{rrrrrrrrrrrrrrrr}\n",
       " & 0 & 1 & 2 & 3 & 4 & 5 & 6 & 7 & 8 & 9 & 10 & 11 & 12 & 13 & 14 \\\\\n",
       "0 & -20.00 & 10.00 & 10.00 & 0 & 0 & 0 & 0 & 0 & 0 & 0 & 0 & 0 & 0 & 0 & 0 \\\\\n",
       "1 & 70.00 & -90.00 & 0 & 10.00 & 10.00 & 0 & 0 & 0 & 0 & 0 & 0 & 0 & 0 & 0 & 0 \\\\\n",
       "2 & 70.00 & 0 & -90.00 & 0 & 10.00 & 10.00 & 0 & 0 & 0 & 0 & 0 & 0 & 0 & 0 & 0 \\\\\n",
       "3 & 0 & 70.00 & 0 & -90.00 & 0 & 0 & 10.00 & 10.00 & 0 & 0 & 0 & 0 & 0 & 0 & 0 \\\\\n",
       "4 & 0 & 70.00 & 0 & 0 & -90.00 & 0 & 0 & 10.00 & 10.00 & 0 & 0 & 0 & 0 & 0 & 0 \\\\\n",
       "5 & 0 & 0 & 70.00 & 0 & 0 & -85.00 & 0 & 0 & 10.00 & 5.00 & 0 & 0 & 0 & 0 & 0 \\\\\n",
       "6 & 0 & 0 & 0 & 70.00 & 0 & 0 & -70.00 & 0 & 0 & 0 & 0 & 0 & 0 & 0 & 0 \\\\\n",
       "7 & 0 & 0 & 0 & 0 & 70.00 & 0 & 0 & -90.00 & 0 & 0 & 10.00 & 10.00 & 0 & 0 & 0 \\\\\n",
       "8 & 0 & 0 & 0 & 0 & 70.00 & 0 & 0 & 0 & -85.00 & 0 & 0 & 10.00 & 5.00 & 0 & 0 \\\\\n",
       "9 & 0 & 0 & 0 & 0 & 0 & 70.00 & 0 & 0 & 0 & -70.00 & 0 & 0 & 0 & 0 & 0 \\\\\n",
       "10 & 0 & 0 & 0 & 0 & 0 & 0 & 0 & 70.00 & 0 & 0 & -70.00 & 0 & 0 & 0 & 0 \\\\\n",
       "11 & 0 & 0 & 0 & 0 & 0 & 0 & 0 & 70.00 & 0 & 0 & 0 & -85.00 & 0 & 10.00 & 5.00 \\\\\n",
       "12 & 0 & 0 & 0 & 0 & 0 & 0 & 0 & 0 & 70.00 & 0 & 0 & 0 & -70.00 & 0 & 0 \\\\\n",
       "13 & 0 & 0 & 0 & 0 & 0 & 0 & 0 & 0 & 0 & 0 & 0 & 70.00 & 0 & -70.00 & 0 \\\\\n",
       "14 & 0 & 0 & 0 & 0 & 0 & 0 & 0 & 0 & 0 & 0 & 0 & 70.00 & 0 & 0 & -70.00 \\\\\n",
       "\\end{array}\n",
       "$"
      ],
      "text/plain": [
       "<IPython.core.display.Math object>"
      ]
     },
     "metadata": {},
     "output_type": "display_data"
    },
    {
     "data": {
      "text/latex": [
       "$\\displaystyle \\text{Матрица для уравнений Колмогорова}\\\\\n",
       "\\begin{array}{rrrrrrrrrrrrrrrr}\n",
       " & 0 & 1 & 2 & 3 & 4 & 5 & 6 & 7 & 8 & 9 & 10 & 11 & 12 & 13 & 14 \\\\\n",
       "0 & -20.00 & 70.00 & 70.00 & 0 & 0 & 0 & 0 & 0 & 0 & 0 & 0 & 0 & 0 & 0 & 0 \\\\\n",
       "1 & 10.00 & -90.00 & 0 & 70.00 & 70.00 & 0 & 0 & 0 & 0 & 0 & 0 & 0 & 0 & 0 & 0 \\\\\n",
       "2 & 10.00 & 0 & -90.00 & 0 & 0 & 70.00 & 0 & 0 & 0 & 0 & 0 & 0 & 0 & 0 & 0 \\\\\n",
       "3 & 0 & 10.00 & 0 & -90.00 & 0 & 0 & 70.00 & 0 & 0 & 0 & 0 & 0 & 0 & 0 & 0 \\\\\n",
       "4 & 0 & 10.00 & 10.00 & 0 & -90.00 & 0 & 0 & 70.00 & 70.00 & 0 & 0 & 0 & 0 & 0 & 0 \\\\\n",
       "5 & 0 & 0 & 10.00 & 0 & 0 & -85.00 & 0 & 0 & 0 & 70.00 & 0 & 0 & 0 & 0 & 0 \\\\\n",
       "6 & 0 & 0 & 0 & 10.00 & 0 & 0 & -70.00 & 0 & 0 & 0 & 0 & 0 & 0 & 0 & 0 \\\\\n",
       "7 & 0 & 0 & 0 & 10.00 & 10.00 & 0 & 0 & -90.00 & 0 & 0 & 70.00 & 70.00 & 0 & 0 & 0 \\\\\n",
       "8 & 0 & 0 & 0 & 0 & 10.00 & 10.00 & 0 & 0 & -85.00 & 0 & 0 & 0 & 70.00 & 0 & 0 \\\\\n",
       "9 & 0 & 0 & 0 & 0 & 0 & 5.00 & 0 & 0 & 0 & -70.00 & 0 & 0 & 0 & 0 & 0 \\\\\n",
       "10 & 0 & 0 & 0 & 0 & 0 & 0 & 0 & 10.00 & 0 & 0 & -70.00 & 0 & 0 & 0 & 0 \\\\\n",
       "11 & 0 & 0 & 0 & 0 & 0 & 0 & 0 & 10.00 & 10.00 & 0 & 0 & -85.00 & 0 & 70.00 & 70.00 \\\\\n",
       "12 & 0 & 0 & 0 & 0 & 0 & 0 & 0 & 0 & 5.00 & 0 & 0 & 0 & -70.00 & 0 & 0 \\\\\n",
       "13 & 0 & 0 & 0 & 0 & 0 & 0 & 0 & 0 & 0 & 0 & 0 & 10.00 & 0 & -70.00 & 0 \\\\\n",
       "14 & 0 & 0 & 0 & 0 & 0 & 0 & 0 & 0 & 0 & 0 & 0 & 5.00 & 0 & 0 & -70.00 \\\\\n",
       "\\end{array}\n",
       "$"
      ],
      "text/plain": [
       "<IPython.core.display.Math object>"
      ]
     },
     "metadata": {},
     "output_type": "display_data"
    }
   ],
   "source": [
    "\n",
    "wb = openpyxl.load_workbook(\"intense_matrix.xlsx\")\n",
    "ws = wb.active\n",
    "\n",
    "intense_matrix_shift = []\n",
    "\n",
    "for row in ws.iter_rows(values_only=True):\n",
    "    intense_matrix_shift.append([i for i in row])\n",
    "    \n",
    "intense_matrix_shift = np.array(intense_matrix_shift)\n",
    "\n",
    "intense_matrix_shift = np.delete(intense_matrix_shift, 0, axis=0)\n",
    "intense_matrix_shift = np.delete(intense_matrix_shift, 0, axis=1)\n",
    "\n",
    "\n",
    "len_matrix = len(intense_matrix_shift)\n",
    "\n",
    "kolmagorova_matrix = np.zeros((len_matrix, len_matrix))\n",
    "\n",
    "for i in range(len_matrix):\n",
    "    for j in range(len_matrix):        \n",
    "        kolmagorova_matrix[i][i] -= intense_matrix_shift[i][j]\n",
    "        kolmagorova_matrix[j][i] += intense_matrix_shift[i][j]\n",
    "        \n",
    "intense_matrix = copy.deepcopy(intense_matrix_shift)\n",
    "for i in range(len(intense_matrix)):\n",
    "    intense_matrix[i][i] = -np.sum(intense_matrix_shift[i])\n",
    "        \n",
    "display(Math(\"\\\\text{Матрица переходов}\\\\\\\\\" + f\"{matrix_to_latex(intense_matrix_shift)}\"))\n",
    "display(Math(\"\\\\text{Матрица интенисивностей}\\\\\\\\\" + f\"{matrix_to_latex(intense_matrix)}\"))\n",
    "display(Math(\"\\\\text{Матрица для уравнений Колмогорова}\\\\\\\\\" + f\"{matrix_to_latex(kolmagorova_matrix)}\"))"
   ]
  },
  {
   "cell_type": "code",
   "execution_count": 227,
   "metadata": {},
   "outputs": [
    {
     "data": {
      "text/latex": [
       "$\\displaystyle \\text{Уравнения Колмогорова}\\\\\\begin{equation}\\\\ \\begin{cases} \\frac{dP_{0}}{dt} = -20.0P_{0}+70.0P_{1}+70.0P_{2}\\\\\\frac{dP_{1}}{dt} = 10.0P_{0}-90.0P_{1}+70.0P_{3}+70.0P_{4}\\\\\\frac{dP_{2}}{dt} = 10.0P_{0}-90.0P_{2}+70.0P_{5}\\\\\\frac{dP_{3}}{dt} = 10.0P_{1}-90.0P_{3}+70.0P_{6}\\\\\\frac{dP_{4}}{dt} = 10.0P_{1}+10.0P_{2}-90.0P_{4}+70.0P_{7}+70.0P_{8}\\\\\\frac{dP_{5}}{dt} = 10.0P_{2}-85.0P_{5}+70.0P_{9}\\\\\\frac{dP_{6}}{dt} = 10.0P_{3}-70.0P_{6}\\\\\\frac{dP_{7}}{dt} = 10.0P_{3}+10.0P_{4}-90.0P_{7}+70.0P_{10}+70.0P_{11}\\\\\\frac{dP_{8}}{dt} = 10.0P_{4}+10.0P_{5}-85.0P_{8}+70.0P_{12}\\\\\\frac{dP_{9}}{dt} = 5.0P_{5}-70.0P_{9}\\\\\\frac{dP_{10}}{dt} = 10.0P_{7}-70.0P_{10}\\\\\\frac{dP_{11}}{dt} = 10.0P_{7}+10.0P_{8}-85.0P_{11}+70.0P_{13}+70.0P_{14}\\\\\\frac{dP_{12}}{dt} = 5.0P_{8}-70.0P_{12}\\\\\\frac{dP_{13}}{dt} = 10.0P_{11}-70.0P_{13}\\\\\\frac{dP_{14}}{dt} = 5.0P_{11}-70.0P_{14}\\\\\\end{cases}\\\\ \\end{equation} \\\\$"
      ],
      "text/plain": [
       "<IPython.core.display.Math object>"
      ]
     },
     "metadata": {},
     "output_type": "display_data"
    }
   ],
   "source": [
    "equation = \"\\\\begin{equation}\\\\\\\\ \\\\begin{cases} \"\n",
    "\n",
    "for i in range(len_matrix):\n",
    "    equation += \"\\\\frac{dP_{\" + f\"{i}\" + \"}}{dt} = \"\n",
    "    counter = 0\n",
    "    for j in range(len_matrix):\n",
    "        if abs(kolmagorova_matrix[i][j]) > 1e-12:\n",
    "            if counter and kolmagorova_matrix[i][j] > 0:\n",
    "                equation +=\"+\"\n",
    "            equation += f\"{kolmagorova_matrix[i][j]}P_\"+ \"{\" + f\"{j}\" + \"}\"\n",
    "            counter += 1\n",
    "    equation += \"\\\\\\\\\"\n",
    "equation += \"\\\\end{cases}\\\\\\\\ \\\\end{equation} \\\\\\\\\"\n",
    "\n",
    "display(Math(\"\\\\text{Уравнения Колмогорова}\\\\\\\\\" + equation))"
   ]
  },
  {
   "cell_type": "code",
   "execution_count": 228,
   "metadata": {},
   "outputs": [
    {
     "data": {
      "text/latex": [
       "$\\displaystyle \\text{Установившийся режим работы системы описывается уравнениями Колмогорова, где значение производных равно нулю}$"
      ],
      "text/plain": [
       "<IPython.core.display.Math object>"
      ]
     },
     "metadata": {},
     "output_type": "display_data"
    },
    {
     "data": {
      "text/latex": [
       "$\\displaystyle Q^T\\cdot P(t) = 0$"
      ],
      "text/plain": [
       "<IPython.core.display.Math object>"
      ]
     },
     "metadata": {},
     "output_type": "display_data"
    }
   ],
   "source": [
    "\n",
    "display(Math(\"\\\\text{Установившийся режим работы системы описывается уравнениями Колмогорова, где значение производных равно нулю}\"))\n",
    "display(Math(\"Q^T\\\\cdot P(t) = 0\"))"
   ]
  },
  {
   "cell_type": "code",
   "execution_count": 229,
   "metadata": {},
   "outputs": [
    {
     "data": {
      "text/latex": [
       "$\\displaystyle \\text{Уравнения Колмогорова для установившегося режима}\\\\\\begin{equation}\\\\ \\begin{cases} -20.0P_{0}(t)+70.0P_{1}(t)+70.0P_{2}(t)=0\\\\10.0P_{0}(t)-90.0P_{1}(t)+70.0P_{3}(t)+70.0P_{4}(t)=0\\\\10.0P_{0}(t)-90.0P_{2}(t)+70.0P_{5}(t)=0\\\\10.0P_{1}(t)-90.0P_{3}(t)+70.0P_{6}(t)=0\\\\10.0P_{1}(t)+10.0P_{2}(t)-90.0P_{4}(t)+70.0P_{7}(t)+70.0P_{8}(t)=0\\\\10.0P_{2}(t)-85.0P_{5}(t)+70.0P_{9}(t)=0\\\\10.0P_{3}(t)-70.0P_{6}(t)=0\\\\10.0P_{3}(t)+10.0P_{4}(t)-90.0P_{7}(t)+70.0P_{10}(t)+70.0P_{11}(t)=0\\\\10.0P_{4}(t)+10.0P_{5}(t)-85.0P_{8}(t)+70.0P_{12}(t)=0\\\\5.0P_{5}(t)-70.0P_{9}(t)=0\\\\10.0P_{7}(t)-70.0P_{10}(t)=0\\\\10.0P_{7}(t)+10.0P_{8}(t)-85.0P_{11}(t)+70.0P_{13}(t)+70.0P_{14}(t)=0\\\\5.0P_{8}(t)-70.0P_{12}(t)=0\\\\10.0P_{11}(t)-70.0P_{13}(t)=0\\\\5.0P_{11}(t)-70.0P_{14}(t)=0\\\\\\end{cases}\\\\ \\end{equation} \\\\$"
      ],
      "text/plain": [
       "<IPython.core.display.Math object>"
      ]
     },
     "metadata": {},
     "output_type": "display_data"
    }
   ],
   "source": [
    "equation = \"\\\\begin{equation}\\\\\\\\ \\\\begin{cases} \"\n",
    "\n",
    "for i in range(len_matrix):\n",
    "    counter = 0\n",
    "    for j in range(len_matrix):\n",
    "        if abs(kolmagorova_matrix[i][j]) > 1e-12:\n",
    "            if counter and kolmagorova_matrix[i][j] > 0:\n",
    "                equation +=\"+\"\n",
    "            equation += f\"{kolmagorova_matrix[i][j]}P_\"+ \"{\" + f\"{j}\" + \"}(t)\"\n",
    "            counter += 1\n",
    "    equation += \"=0\\\\\\\\\"\n",
    "equation += \"\\\\end{cases}\\\\\\\\ \\\\end{equation} \\\\\\\\\"\n",
    "\n",
    "display(Math(\"\\\\text{Уравнения Колмогорова для установившегося режима}\\\\\\\\\" + equation))"
   ]
  },
  {
   "cell_type": "code",
   "execution_count": 230,
   "metadata": {},
   "outputs": [
    {
     "data": {
      "text/latex": [
       "$\\displaystyle \n",
       "\\begin{array}{rrrrrrrrrrrrrrrr}\n",
       " & 0 & 1 & 2 & 3 & 4 & 5 & 6 & 7 & 8 & 9 & 10 & 11 & 12 & 13 & 14 \\\\\n",
       "0 & -20.00 & 70.00 & 70.00 & 0 & 0 & 0 & 0 & 0 & 0 & 0 & 0 & 0 & 0 & 0 & 0 \\\\\n",
       "1 & 10.00 & -90.00 & 0 & 70.00 & 70.00 & 0 & 0 & 0 & 0 & 0 & 0 & 0 & 0 & 0 & 0 \\\\\n",
       "2 & 10.00 & 0 & -90.00 & 0 & 0 & 70.00 & 0 & 0 & 0 & 0 & 0 & 0 & 0 & 0 & 0 \\\\\n",
       "3 & 0 & 10.00 & 0 & -90.00 & 0 & 0 & 70.00 & 0 & 0 & 0 & 0 & 0 & 0 & 0 & 0 \\\\\n",
       "4 & 0 & 10.00 & 10.00 & 0 & -90.00 & 0 & 0 & 70.00 & 70.00 & 0 & 0 & 0 & 0 & 0 & 0 \\\\\n",
       "5 & 0 & 0 & 10.00 & 0 & 0 & -85.00 & 0 & 0 & 0 & 70.00 & 0 & 0 & 0 & 0 & 0 \\\\\n",
       "6 & 0 & 0 & 0 & 10.00 & 0 & 0 & -70.00 & 0 & 0 & 0 & 0 & 0 & 0 & 0 & 0 \\\\\n",
       "7 & 0 & 0 & 0 & 10.00 & 10.00 & 0 & 0 & -90.00 & 0 & 0 & 70.00 & 70.00 & 0 & 0 & 0 \\\\\n",
       "8 & 0 & 0 & 0 & 0 & 10.00 & 10.00 & 0 & 0 & -85.00 & 0 & 0 & 0 & 70.00 & 0 & 0 \\\\\n",
       "9 & 0 & 0 & 0 & 0 & 0 & 5.00 & 0 & 0 & 0 & -70.00 & 0 & 0 & 0 & 0 & 0 \\\\\n",
       "10 & 0 & 0 & 0 & 0 & 0 & 0 & 0 & 10.00 & 0 & 0 & -70.00 & 0 & 0 & 0 & 0 \\\\\n",
       "11 & 0 & 0 & 0 & 0 & 0 & 0 & 0 & 10.00 & 10.00 & 0 & 0 & -85.00 & 0 & 70.00 & 70.00 \\\\\n",
       "12 & 0 & 0 & 0 & 0 & 0 & 0 & 0 & 0 & 5.00 & 0 & 0 & 0 & -70.00 & 0 & 0 \\\\\n",
       "13 & 0 & 0 & 0 & 0 & 0 & 0 & 0 & 0 & 0 & 0 & 0 & 10.00 & 0 & -70.00 & 0 \\\\\n",
       "14 & 1.00 & 1.00 & 1.00 & 1.00 & 1.00 & 1.00 & 1.00 & 1.00 & 1.00 & 1.00 & 1.00 & 1.00 & 1.00 & 1.00 & 1.00 \\\\\n",
       "\\end{array}\n",
       "$"
      ],
      "text/plain": [
       "<IPython.core.display.Math object>"
      ]
     },
     "metadata": {},
     "output_type": "display_data"
    },
    {
     "data": {
      "text/latex": [
       "$\\displaystyle \\begin{bmatrix} 0.7170 \\\\ 0.1166 \\\\ 0.0882 \\\\ 0.0146 \\\\ 0.0329 \\\\ 0.0110 \\\\ 0.0021 \\\\ 0.0076 \\\\ 0.0055 \\\\ 0.0008 \\\\ 0.0011 \\\\ 0.0019 \\\\ 0.0004 \\\\ 0.0003 \\\\ 0.0001 \\end{bmatrix}$"
      ],
      "text/plain": [
       "<IPython.core.display.Math object>"
      ]
     },
     "metadata": {},
     "output_type": "display_data"
    }
   ],
   "source": [
    "p0 = np.zeros(len(intense_matrix_shift))\n",
    "p0[-1] = 1\n",
    "\n",
    "tmp_kolm_matrix = copy.deepcopy(kolmagorova_matrix)\n",
    "tmp_kolm_matrix[-1] = 1\n",
    "\n",
    "solve_no_shifting = np.linalg.solve(tmp_kolm_matrix, p0)\n",
    "display(Math(f\"{matrix_to_latex(tmp_kolm_matrix)}\"))\n",
    "display(Math(f\"{vector_to_latex(solve_no_shifting)}\"))"
   ]
  },
  {
   "cell_type": "code",
   "execution_count": 272,
   "metadata": {},
   "outputs": [
    {
     "data": {
      "text/latex": [
       "$\\displaystyle \\text{Вероятность отказа системы: }0.01092$"
      ],
      "text/plain": [
       "<IPython.core.display.Math object>"
      ]
     },
     "metadata": {},
     "output_type": "display_data"
    },
    {
     "data": {
      "text/latex": [
       "$\\displaystyle \\text{Число готовых к эксплуатации устройств типа А: }2.82893$"
      ],
      "text/plain": [
       "<IPython.core.display.Math object>"
      ]
     },
     "metadata": {},
     "output_type": "display_data"
    },
    {
     "data": {
      "text/latex": [
       "$\\displaystyle \\text{Число готовых к эксплуатации устройств типа В: }3.78601$"
      ],
      "text/plain": [
       "<IPython.core.display.Math object>"
      ]
     },
     "metadata": {},
     "output_type": "display_data"
    },
    {
     "data": {
      "text/latex": [
       "$\\displaystyle \\text{Коэффициент загрузки ремонтной службы: }0.28305$"
      ],
      "text/plain": [
       "<IPython.core.display.Math object>"
      ]
     },
     "metadata": {},
     "output_type": "display_data"
    }
   ],
   "source": [
    "broken = [7, 11, 14, 15, 13, 10]\n",
    "\n",
    "# Вычисление вероятности отказа системы\n",
    "p_broken_sum = 0\n",
    "for i in range(len(solve_no_shifting)):\n",
    "    if i in broken:\n",
    "        p_broken_sum += solve_no_shifting[i]\n",
    "        \n",
    "        \n",
    "# Вычисление готовых к эксплуатации устройств\n",
    "wb = openpyxl.load_workbook(\"worked_A_type.xlsx\")\n",
    "ws = wb.active\n",
    "worked_A_matrix = []\n",
    "for row in ws.iter_rows(values_only=True):\n",
    "    worked_A_matrix.append(row[0])\n",
    "worked_A_matrix = np.array(worked_A_matrix)\n",
    "worked_A_mean = np.dot(worked_A_matrix, solve_no_shifting)\n",
    "\n",
    "wb = openpyxl.load_workbook(\"worked_B_type.xlsx\")\n",
    "ws = wb.active\n",
    "worked_B_matrix = []\n",
    "for row in ws.iter_rows(values_only=True):\n",
    "    worked_B_matrix.append(row[0])\n",
    "worked_B_matrix = np.array(worked_B_matrix)\n",
    "worked_B_mean = np.dot(worked_B_matrix, solve_no_shifting)\n",
    "\n",
    "\n",
    "# Вычисление коэффициента загрузки ремонтной службы\n",
    "wb = openpyxl.load_workbook(\"repairing.xlsx\")\n",
    "ws = wb.active\n",
    "repairing_matrix = []\n",
    "for row in ws.iter_rows(values_only=True):\n",
    "    repairing_matrix.append(row[0])\n",
    "repairing_matrix = np.array(repairing_matrix)\n",
    "repairing_mean = np.dot(repairing_matrix, solve_no_shifting)\n",
    "\n",
    "display(Math(\"\\\\text{Вероятность отказа системы: }\" + f\"{p_broken_sum:.5f}\"))\n",
    "display(Math(\"\\\\text{Число готовых к эксплуатации устройств типа А: }\" + f\"{worked_A_mean:.5f}\"))\n",
    "display(Math(\"\\\\text{Число готовых к эксплуатации устройств типа В: }\" + f\"{worked_B_mean:.5f}\"))\n",
    "display(Math(\"\\\\text{Коэффициент загрузки ремонтной службы: }\" + f\"{repairing_mean:.5f}\"))"
   ]
  },
  {
   "cell_type": "code",
   "execution_count": 231,
   "metadata": {},
   "outputs": [],
   "source": [
    "def dpdt(p, t):\n",
    "    return np.dot(kolmagorova_matrix, p)"
   ]
  },
  {
   "cell_type": "code",
   "execution_count": 232,
   "metadata": {},
   "outputs": [],
   "source": [
    "def evklidova_norm(p, q):\n",
    "    len_q = len(q)\n",
    "    len_p = len(p)\n",
    "        \n",
    "    sum_q_p = 0\n",
    "    for i in range(len_p):\n",
    "        sum_q_p += (p[i] - q[i]) ** 2\n",
    "    return np.sqrt(sum_q_p)"
   ]
  },
  {
   "cell_type": "code",
   "execution_count": 233,
   "metadata": {},
   "outputs": [],
   "source": [
    "t = np.linspace( 0, 1, 100)\n",
    "\n",
    "p0 = np.zeros(len(intense_matrix))\n",
    "p0[0] = 1\n",
    "p = odeint(dpdt, p0, t)\n",
    "new_t = []\n",
    "new_p = []\n",
    "i = 0\n",
    "\n",
    "\n",
    "while evklidova_norm(p[i], solve_no_shifting) > 0.01 and i < len(p) - 1:\n",
    "    new_t.append(t[i])\n",
    "    new_p.append(p[i])\n",
    "    i += 1\n",
    "\n",
    "t_shift = new_t[-1]\n",
    "\n",
    "for j in range(i):\n",
    "    new_t.append(t[i+j-1])\n",
    "    new_p.append(p[i+j-1])"
   ]
  },
  {
   "cell_type": "code",
   "execution_count": 234,
   "metadata": {},
   "outputs": [
    {
     "data": {
      "image/png": "[encoded data removed]",
      "text/plain": [
       "<Figure size 640x480 with 1 Axes>"
      ]
     },
     "metadata": {},
     "output_type": "display_data"
    }
   ],
   "source": [
    "new_p = np.array(new_p).T\n",
    "\n",
    "\n",
    "for i in range(len_matrix):\n",
    "    plt.plot(new_t, new_p[i], '-', label=f\"P_{i+1}\")\n",
    "    \n",
    "plt.axvline(t_shift, color=\"red\", linestyle='-', label=\"Конец переходных процессов\")\n",
    "plt.ylabel(\"Вероятность нахождения в P_i\")\n",
    "plt.xlabel(\"t\")\n",
    "plt.grid(True)\n",
    "plt.legend(bbox_to_anchor=(1.05, 1), loc='upper left')\n",
    "plt.show()"
   ]
  },
  {
   "cell_type": "code",
   "execution_count": 236,
   "metadata": {},
   "outputs": [],
   "source": [
    "mark_matrix = np.zeros((len_matrix, len_matrix))\n",
    "\n",
    "for i in range(len_matrix):\n",
    "    for j in range(len_matrix):\n",
    "        if intense_matrix_shift[i][j]:\n",
    "            mark_matrix[i][j] = intense_matrix_shift[i][j]/np.sum(intense_matrix_shift[i])"
   ]
  },
  {
   "cell_type": "code",
   "execution_count": 266,
   "metadata": {},
   "outputs": [
    {
     "data": {
      "image/png": "[encoded data removed]",
      "text/plain": [
       "<Figure size 640x480 with 1 Axes>"
      ]
     },
     "metadata": {},
     "output_type": "display_data"
    }
   ],
   "source": [
    "position_entry_matrix = []\n",
    "\n",
    "\n",
    "program_entry_matrix = np.zeros((len_matrix, len_matrix))\n",
    "for i in range(len_matrix):\n",
    "    program_entry_matrix[i][0] = mark_matrix[i][0]\n",
    "    for j in range(1, len_matrix):\n",
    "        program_entry_matrix[i][j] = program_entry_matrix[i][j-1] + mark_matrix[i][j]\n",
    "\n",
    "t = 0\n",
    "t_count = 100\n",
    "t_step = 1 / t_count\n",
    "start_position = 0\n",
    "current_position = start_position\n",
    "prev_position = -1\n",
    "\n",
    "position_entry = {}\n",
    "position_history = [[0, int(start_position) + 1]]\n",
    "\n",
    "while t < t_shift:\n",
    "    \n",
    "    current_prob = np.random.default_rng(int(time()) + int(t*t_count)).integers(1,100)/100\n",
    "    next_position = 0\n",
    "    while current_prob > program_entry_matrix[current_position][next_position]:\n",
    "        next_position += 1\n",
    "    \n",
    "    lambda_i = -intense_matrix[current_position, current_position]  # Суммарная интенсивность выхода\n",
    "    if lambda_i > 0:\n",
    "        t_freeze = -np.log(np.random.uniform(int(time()))) / lambda_i  # Генерация экспоненциального времени\n",
    "    else:\n",
    "        t_freeze = np.inf  # Остаемся в этом состоянии навсегда\n",
    "    t_freeze += t\n",
    "\n",
    "    t_start = t\n",
    "    while t < t_freeze and t < t_shift or t == t_start:\n",
    "        t+= t_step\n",
    "    \n",
    "    position_history.append([t_start, current_position + 1])\n",
    "    position_history.append([t, current_position + 1])\n",
    "        \n",
    "    prev_position = current_position\n",
    "    current_position = next_position\n",
    "    position_entry[current_position] = position_entry.get(current_position, 0) + 1\n",
    "    \n",
    "        \n",
    "        \n",
    "steps, positions = zip(*position_history)\n",
    "plt.plot(steps, positions, marker='.', linestyle='-')\n",
    "plt.xlabel(\"Шаги\")\n",
    "plt.ylabel(\"Позиция\")\n",
    "plt.title(\"График движения\")\n",
    "plt.grid(True)\n",
    "plt.show()\n",
    "\n",
    "    # position_entry_matrix.append([[i], [position_entry[k] for k in range(len(position_entry))]])\n",
    "\n",
    "    "
   ]
  },
  {
   "cell_type": "code",
   "execution_count": 265,
   "metadata": {},
   "outputs": [
    {
     "data": {
      "image/png": "[encoded data removed]",
      "text/plain": [
       "<Figure size 640x480 with 1 Axes>"
      ]
     },
     "metadata": {},
     "output_type": "display_data"
    }
   ],
   "source": [
    "\n",
    "position_entry_matrix = []\n",
    "uptimes = []\n",
    "\n",
    "program_entry_matrix = np.zeros((len_matrix, len_matrix))\n",
    "for i in range(len_matrix):\n",
    "    program_entry_matrix[i][0] = mark_matrix[i][0]\n",
    "    for j in range(1, len_matrix):\n",
    "        program_entry_matrix[i][j] = program_entry_matrix[i][j-1] + mark_matrix[i][j]\n",
    "\n",
    "start_position = 0\n",
    "    \n",
    "current_position = start_position\n",
    "prev_position = -1\n",
    "\n",
    "position_history = [[0, int(start_position)+1]]\n",
    "position_entry = {}\n",
    "t = 0\n",
    "while current_position + 1 not in broken and t < t_shift:\n",
    "    current_prob = np.random.default_rng(int(time()) + int(t*t_count)).integers(1,100)/100\n",
    "    next_position = 0\n",
    "    while current_prob > program_entry_matrix[current_position][next_position]:\n",
    "        next_position += 1\n",
    "    \n",
    "    prev_position = current_position\n",
    "    current_position = next_position\n",
    "    position_entry[current_position] = position_entry.get(current_position, 0) + 1\n",
    "\n",
    "    position_history.append([t, current_position + 1])\n",
    "    t += t_step\n",
    "    \n",
    "    \n",
    "steps, positions = zip(*position_history)\n",
    "plt.plot(steps, positions, marker='.', linestyle='-')\n",
    "\n",
    "plt.xlabel(\"Шаги\")\n",
    "plt.ylabel(\"Позиция\")\n",
    "plt.title(\"График движения\")\n",
    "plt.grid(True)\n",
    "plt.show()\n",
    "\n",
    "    # position_entry_matrix.append([[i], [position_entry[k] for k in range(len(position_entry))]])\n",
    "\n",
    "    "
   ]
  }
 ],
 "metadata": {
  "kernelspec": {
   "display_name": ".venv",
   "language": "python",
   "name": "python3"
  },
  "language_info": {
   "codemirror_mode": {
    "name": "ipython",
    "version": 3
   },
   "file_extension": ".py",
   "mimetype": "text/x-python",
   "name": "python",
   "nbconvert_exporter": "python",
   "pygments_lexer": "ipython3",
   "version": "3.13.2"
  }
 },
 "nbformat": 4,
 "nbformat_minor": 4
}
